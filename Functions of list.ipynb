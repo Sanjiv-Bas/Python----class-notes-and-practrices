{
 "cells": [
  {
   "cell_type": "markdown",
   "id": "70b787d3-1801-4e89-b232-e450fa18118e",
   "metadata": {},
   "source": [
    "# The below mentioned things can be mentioned as Methods/Built in functions\n",
    "\n",
    "# .append ==> we can append/add only one value that too at the end of the last value\n",
    "# .insert ==> we can insert only one value as per our required position by fixing the index. for an example, If we want to update the number 100 in the third place means we can given it by (2,100) \n",
    "# .extend ==> will show the values by merging\n",
    "# .remove ==> this will remove the mentioned number\n",
    "# .pop ==> this function will remove the last number in the list/tuple/set whichever. we also can mention the index like pop(3) here \"3\" is the index of the number which is going to get delete.\n",
    "# .index ==> it will show the index of the mentioned number \n",
    "# .count ==> to find how many times. this will show the count of the mentioned number\n",
    "# .sort ==> it is used for seeing the result in ascending\n",
    "# .reverse ==> in descending ordern\n",
    "# .copy ==> this will assign the values\n",
    "# .clear ==> if we given print, it will just clear the list/tuple which ever is present\n",
    "\n",
    "# we can see that with list here\n",
    "# list.append\n",
    "# list.insert\n",
    "# list.extent\n",
    "# list.remove\n",
    "# list.pop\n",
    "# list.index\n",
    "# list.count\n",
    "# list.sort\n",
    "# list.reverse\n",
    "# list.copy\n",
    "# list.clear\n",
    "\n",
    "# we could see these things with the examples which were given below"
   ]
  },
  {
   "cell_type": "code",
   "execution_count": 3,
   "id": "259266f2-199b-4d0b-93a5-298ee2e7f381",
   "metadata": {},
   "outputs": [
    {
     "name": "stdout",
     "output_type": "stream",
     "text": [
      "[1, 3, 5, 7, 9, 13, 16, 24, 2500]\n"
     ]
    }
   ],
   "source": [
    "list1=[1,3,5,7,9,13,16,24]\n",
    "list1.append(2500)\n",
    "print(list1)"
   ]
  },
  {
   "cell_type": "code",
   "execution_count": 4,
   "id": "e297d2f8-7225-4be2-b729-f967767d9fac",
   "metadata": {},
   "outputs": [
    {
     "name": "stdout",
     "output_type": "stream",
     "text": [
      "[1, 3, 1000, 5, 7, 9, 13, 16, 24]\n"
     ]
    }
   ],
   "source": [
    "list1=[1,3,5,7,9,13,16,24]\n",
    "list1.insert(2,1000)\n",
    "print(list1)"
   ]
  },
  {
   "cell_type": "code",
   "execution_count": 6,
   "id": "eb696204-ef69-41fd-a087-4cb119f59264",
   "metadata": {},
   "outputs": [
    {
     "name": "stdout",
     "output_type": "stream",
     "text": [
      "[1, 3, 5, 7, 9, 13, 16, 24, 11, 12, 13, 14, 15, 16]\n"
     ]
    }
   ],
   "source": [
    "list1=[1,3,5,7,9,13,16,24]\n",
    "list2=[11,12,13,14,15,16]\n",
    "list1.extend(list2)\n",
    "print(list1)"
   ]
  },
  {
   "cell_type": "code",
   "execution_count": 7,
   "id": "8531fcac-7a66-4201-bd5d-eaef71ed8338",
   "metadata": {},
   "outputs": [
    {
     "name": "stdout",
     "output_type": "stream",
     "text": [
      "[1, 2, 3, 4, 6, 7, 8, 9]\n"
     ]
    }
   ],
   "source": [
    "list1 = [1,2,3,4,5,6,7,8,9]\n",
    "list1.remove(5)\n",
    "print(list1)"
   ]
  },
  {
   "cell_type": "code",
   "execution_count": 8,
   "id": "e9126bff-dda2-410a-bb6f-48049b9f6358",
   "metadata": {},
   "outputs": [
    {
     "name": "stdout",
     "output_type": "stream",
     "text": [
      "[1, 2, 3, 4, 5, 6, 7, 8]\n"
     ]
    }
   ],
   "source": [
    "list1 = [1,2,3,4,5,6,7,8,9]\n",
    "list1.pop()\n",
    "print(list1)"
   ]
  },
  {
   "cell_type": "code",
   "execution_count": 9,
   "id": "4e8eaec6-d4b0-4b30-88b7-8631c2f5457a",
   "metadata": {},
   "outputs": [
    {
     "name": "stdout",
     "output_type": "stream",
     "text": [
      "[1, 2, 3, 4, 6, 7, 8, 9]\n"
     ]
    }
   ],
   "source": [
    "list1 = [1,2,3,4,5,6,7,8,9]\n",
    "list1.pop(4)\n",
    "print(list1)"
   ]
  },
  {
   "cell_type": "code",
   "execution_count": 11,
   "id": "a8dea926-f00c-4ff8-b7aa-f7feddcb61fe",
   "metadata": {},
   "outputs": [
    {
     "name": "stdout",
     "output_type": "stream",
     "text": [
      "5\n"
     ]
    }
   ],
   "source": [
    "list1 = [1,2,3,4,5,6,7,8,9]\n",
    "list1.index(6)\n",
    "print(list1.index(6))"
   ]
  },
  {
   "cell_type": "code",
   "execution_count": 13,
   "id": "d4511299-c58a-42a6-9581-5d7aa57cb9af",
   "metadata": {},
   "outputs": [
    {
     "name": "stdout",
     "output_type": "stream",
     "text": [
      "1\n"
     ]
    }
   ],
   "source": [
    "list1 = [1,2,3,4,5,6,7,8,9]\n",
    "# list1.count(4)\n",
    "print(list1.count(4))"
   ]
  },
  {
   "cell_type": "code",
   "execution_count": 1,
   "id": "f4bbf92d-9bdf-41d9-bf24-a7b8cfebecf2",
   "metadata": {},
   "outputs": [
    {
     "name": "stdout",
     "output_type": "stream",
     "text": [
      "[1, 3, 5, 7, 8, 11, 22, 34]\n"
     ]
    }
   ],
   "source": [
    "list1 = [1,11,8,5,7,3,22,34]\n",
    "list1.sort()\n",
    "print(list1)"
   ]
  },
  {
   "cell_type": "code",
   "execution_count": 3,
   "id": "d4599121-e7e8-47a2-a414-24455e9708cc",
   "metadata": {},
   "outputs": [
    {
     "name": "stdout",
     "output_type": "stream",
     "text": [
      "[34, 22, 11, 8, 7, 5, 3, 1]\n"
     ]
    }
   ],
   "source": [
    "list1 = [1,11,8,5,7,3,22,34]\n",
    "list1.sort(reverse = True)\n",
    "print(list1)"
   ]
  },
  {
   "cell_type": "code",
   "execution_count": 15,
   "id": "10446f2f-053f-4454-891e-ce8621fa600f",
   "metadata": {},
   "outputs": [
    {
     "name": "stdout",
     "output_type": "stream",
     "text": [
      "[1, 3, 5, 7]\n",
      "[1, 3, 5, 7]\n"
     ]
    }
   ],
   "source": [
    "list2 = [1,3,5,7]\n",
    "list3 = list2.copy()\n",
    "print(list3)\n",
    "print(list2)"
   ]
  },
  {
   "cell_type": "code",
   "execution_count": 16,
   "id": "02cc4f00-bf5c-4108-8523-331621b0c512",
   "metadata": {},
   "outputs": [
    {
     "name": "stdout",
     "output_type": "stream",
     "text": [
      "[]\n"
     ]
    }
   ],
   "source": [
    "list1 = [1,2,3,5,6,7,9,0]\n",
    "list1.clear()\n",
    "print(list1)"
   ]
  }
 ],
 "metadata": {
  "kernelspec": {
   "display_name": "Python 3 (ipykernel)",
   "language": "python",
   "name": "python3"
  },
  "language_info": {
   "codemirror_mode": {
    "name": "ipython",
    "version": 3
   },
   "file_extension": ".py",
   "mimetype": "text/x-python",
   "name": "python",
   "nbconvert_exporter": "python",
   "pygments_lexer": "ipython3",
   "version": "3.13.5"
  }
 },
 "nbformat": 4,
 "nbformat_minor": 5
}
