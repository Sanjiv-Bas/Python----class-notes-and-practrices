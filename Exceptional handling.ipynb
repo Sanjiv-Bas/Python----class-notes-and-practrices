{
 "cells": [
  {
   "cell_type": "markdown",
   "id": "00d94314-cbfc-4e48-b928-2f9bdf4bd47d",
   "metadata": {},
   "source": [
    "# Exceptional handling\n",
    "# Here below mentioned code has no error. The next set will show the error and its message\n",
    "# example 1:"
   ]
  },
  {
   "cell_type": "code",
   "execution_count": 1,
   "id": "da038df6-38ee-4451-83eb-fb06628fec91",
   "metadata": {},
   "outputs": [
    {
     "name": "stdin",
     "output_type": "stream",
     "text": [
      "Enter the number :  10\n",
      "Enter the number :  20\n"
     ]
    },
    {
     "name": "stdout",
     "output_type": "stream",
     "text": [
      "Division of A & B :  0.5\n"
     ]
    }
   ],
   "source": [
    "a = int(input(\"Enter the number : \"))\n",
    "b = int(input(\"Enter the number : \"))\n",
    "print(\"Division of A & B : \", a/b)\n",
    "        "
   ]
  },
  {
   "cell_type": "code",
   "execution_count": null,
   "id": "1c1c1186-28f8-489a-85d5-6f0c3020aff1",
   "metadata": {},
   "outputs": [],
   "source": [
    "Here there is an error that is zero division error. So to avoid the run typer error, we can use tricatch method. that is shown below, \n",
    "first "
   ]
  },
  {
   "cell_type": "code",
   "execution_count": 3,
   "id": "2afb7976-d306-4888-86f6-3b85f7eeb292",
   "metadata": {
    "scrolled": true
   },
   "outputs": [
    {
     "name": "stdin",
     "output_type": "stream",
     "text": [
      "Enter the number :  10\n",
      "Enter the number :  0\n"
     ]
    },
    {
     "ename": "ZeroDivisionError",
     "evalue": "division by zero",
     "output_type": "error",
     "traceback": [
      "\u001b[1;31m---------------------------------------------------------------------------\u001b[0m",
      "\u001b[1;31mZeroDivisionError\u001b[0m                         Traceback (most recent call last)",
      "Cell \u001b[1;32mIn[3], line 3\u001b[0m\n\u001b[0;32m      1\u001b[0m a \u001b[38;5;241m=\u001b[39m \u001b[38;5;28mint\u001b[39m(\u001b[38;5;28minput\u001b[39m(\u001b[38;5;124m\"\u001b[39m\u001b[38;5;124mEnter the number : \u001b[39m\u001b[38;5;124m\"\u001b[39m))\n\u001b[0;32m      2\u001b[0m b \u001b[38;5;241m=\u001b[39m \u001b[38;5;28mint\u001b[39m(\u001b[38;5;28minput\u001b[39m(\u001b[38;5;124m\"\u001b[39m\u001b[38;5;124mEnter the number : \u001b[39m\u001b[38;5;124m\"\u001b[39m))\n\u001b[1;32m----> 3\u001b[0m \u001b[38;5;28mprint\u001b[39m(\u001b[38;5;124m\"\u001b[39m\u001b[38;5;124mDivision of A & B : \u001b[39m\u001b[38;5;124m\"\u001b[39m,a\u001b[38;5;241m/\u001b[39mb)\n",
      "\u001b[1;31mZeroDivisionError\u001b[0m: division by zero"
     ]
    }
   ],
   "source": [
    "a = int(input(\"Enter the number : \"))\n",
    "b = int(input(\"Enter the number : \"))\n",
    "print(\"Division of A & B : \",a/b)"
   ]
  },
  {
   "cell_type": "code",
   "execution_count": 9,
   "id": "7a69946f-dea1-4b1d-add2-975f2e28e4a9",
   "metadata": {},
   "outputs": [
    {
     "name": "stdin",
     "output_type": "stream",
     "text": [
      "Enter the Number1 :  20\n",
      "Enter the Number2 :  0\n"
     ]
    },
    {
     "name": "stdout",
     "output_type": "stream",
     "text": [
      "Number is not divisible by zero\n"
     ]
    }
   ],
   "source": [
    "try:\n",
    "    a = int(input(\"Enter the Number1 : \"))\n",
    "    b = int(input(\"Enter the Number2 : \"))\n",
    "    print(\"Divisible\", a/b)\n",
    "except:\n",
    "    print(\"Number is not divisible by zero\")\n",
    "# Here if we have given the program as dividing by zero. Generally if any of the number got divided by zero. Zero division error will come\n",
    "# but here we have used the tricatch method (\" try and except\") so program will avoid executing the error and print the statement given under the except\n",
    "# condition."
   ]
  }
 ],
 "metadata": {
  "kernelspec": {
   "display_name": "Python 3 (ipykernel)",
   "language": "python",
   "name": "python3"
  },
  "language_info": {
   "codemirror_mode": {
    "name": "ipython",
    "version": 3
   },
   "file_extension": ".py",
   "mimetype": "text/x-python",
   "name": "python",
   "nbconvert_exporter": "python",
   "pygments_lexer": "ipython3",
   "version": "3.13.5"
  }
 },
 "nbformat": 4,
 "nbformat_minor": 5
}
