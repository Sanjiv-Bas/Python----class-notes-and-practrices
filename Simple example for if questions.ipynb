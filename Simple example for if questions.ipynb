{
 "cells": [
  {
   "cell_type": "markdown",
   "id": "841b21c6-a390-4cff-ac7e-80c3859950b6",
   "metadata": {},
   "source": [
    "# Simple if questions"
   ]
  },
  {
   "cell_type": "markdown",
   "id": "f3dbffeb-4064-41ff-b3f3-d3ad6522feb6",
   "metadata": {},
   "source": [
    "# Write a program to check if a number is positive or negative."
   ]
  },
  {
   "cell_type": "code",
   "execution_count": 8,
   "id": "10cbacb0-f8e6-44a4-b18f-77566b1fc1a3",
   "metadata": {},
   "outputs": [
    {
     "name": "stdin",
     "output_type": "stream",
     "text": [
      "Enter the Number :  -1000\n"
     ]
    },
    {
     "name": "stdout",
     "output_type": "stream",
     "text": [
      "Given number is negative\n"
     ]
    }
   ],
   "source": [
    "# Write a program to check if a number is positive or negative.\n",
    "# Logic here used is if any number is greater than zero that will be generally mentioned as positive number and less than zero means\n",
    "# generally that will be shown mentioned as negative same logic is given as a code with the help of if,elif and else.\n",
    "\n",
    "Number = int(input(\"Enter the Number : \"))\n",
    "\n",
    "if Number > 0:\n",
    "    print(\"Given number is positive\")\n",
    "elif Number ==0:\n",
    "    print(\"Given number is Zero\")\n",
    "else:\n",
    "    print(\"Given number is negative\")\n",
    "             "
   ]
  },
  {
   "cell_type": "code",
   "execution_count": 6,
   "id": "1a59510d-d349-44f5-aaee-6c8a2e71c252",
   "metadata": {},
   "outputs": [
    {
     "name": "stdin",
     "output_type": "stream",
     "text": [
      "Enter the number :  25\n"
     ]
    },
    {
     "name": "stdout",
     "output_type": "stream",
     "text": [
      "Given number is odd\n"
     ]
    }
   ],
   "source": [
    "# Check whether a given number is even or odd.\n",
    "# In comparison operator we could see that \"%\" this modulo operator will give the remainder as the result so if we divide any number by 2 \n",
    "# if zero comes means that will be considered as even number and if other than zero comes means that is odd. So here we have used that logic\n",
    "\n",
    "Number = int(input(\"Enter the number : \"))\n",
    "if Number % 2 == 0:\n",
    "    print(\"Given number is even\")\n",
    "else:\n",
    "    print(\"Given number is odd\")\n",
    "            "
   ]
  },
  {
   "cell_type": "code",
   "execution_count": 11,
   "id": "58ce31e2-9102-4961-bfa9-8d40afca1c86",
   "metadata": {},
   "outputs": [
    {
     "name": "stdin",
     "output_type": "stream",
     "text": [
      "Enter the Age:  15\n"
     ]
    },
    {
     "name": "stdout",
     "output_type": "stream",
     "text": [
      "Not eligible to vote\n"
     ]
    }
   ],
   "source": [
    "#Take a user’s age and check if the person is eligible to vote (18 and above).\n",
    "Age = int(input(\"Enter the Age: \"))\n",
    "if Age >= 18:\n",
    "    print(\"Eligible to Vote\")\n",
    "else:\n",
    "    print(\"Not eligible to vote\")"
   ]
  },
  {
   "cell_type": "code",
   "execution_count": 15,
   "id": "c9932e68-9a75-452e-abe9-5788e218833c",
   "metadata": {},
   "outputs": [
    {
     "name": "stdin",
     "output_type": "stream",
     "text": [
      "Enter the Number :  35\n"
     ]
    },
    {
     "name": "stdout",
     "output_type": "stream",
     "text": [
      "Number divisible by 5 \n"
     ]
    }
   ],
   "source": [
    "#  Check if a given number is divisible by 5. Here the modulo will give the remainder. If the answer(that is remainder is) is zero\n",
    "#  then number is divisible by 5 or else. Not divisible by 5.\n",
    "\n",
    "Number = int(input(\"Enter the Number : \"))\n",
    "if Number % 5 == 0:\n",
    "    print(\"Number divisible by 5 \")\n",
    "else:\n",
    "    print(\"Number is not divisible by 5\")"
   ]
  },
  {
   "cell_type": "code",
   "execution_count": 18,
   "id": "eb359412-f8e2-4d30-97ad-c5d0fd0128ce",
   "metadata": {},
   "outputs": [
    {
     "name": "stdin",
     "output_type": "stream",
     "text": [
      "Enter the Value  :  e\n"
     ]
    },
    {
     "name": "stdout",
     "output_type": "stream",
     "text": [
      "The value is vowel\n"
     ]
    }
   ],
   "source": [
    "#  Write a program to check if a given character is a vowel or consonant.\n",
    "\n",
    "Value = str(input(\"Enter the Value  : \"))\n",
    "if Value == \"a\" or Value ==\"e\" or Value == \"i\" or Value == \"o\" or Value == \"u\" or Value == \"A\" or Value ==\"E\" or Value == \"I\" or Value == \"O\" or Value == \"U\":\n",
    "    print(\"The value is vowel\")\n",
    "else:\n",
    "    print(\"The value is consonant\")"
   ]
  },
  {
   "cell_type": "code",
   "execution_count": 26,
   "id": "3b580ef3-e7ed-4cb9-a5d5-503c8a84d3c6",
   "metadata": {},
   "outputs": [
    {
     "name": "stdin",
     "output_type": "stream",
     "text": [
      "Enter the Value :  c\n"
     ]
    },
    {
     "name": "stdout",
     "output_type": "stream",
     "text": [
      "The value is consonant\n"
     ]
    }
   ],
   "source": [
    "#  Write a program to check if a given character is a vowel or consonant.\n",
    "# another method\n",
    "\n",
    "Value = str(input(\"Enter the Value : \"))\n",
    "if Value in \"aeiouAEIOU\":\n",
    "    print(\"The value is vowel\")\n",
    "else:\n",
    "    print(\"The value is consonant\")\n",
    "            \n"
   ]
  },
  {
   "cell_type": "code",
   "execution_count": 30,
   "id": "e735528e-fe2f-4c5e-b8a3-101e1cd140c6",
   "metadata": {},
   "outputs": [
    {
     "name": "stdin",
     "output_type": "stream",
     "text": [
      "Enter the input:  70\n"
     ]
    },
    {
     "name": "stdout",
     "output_type": "stream",
     "text": [
      "Number is divisible only by 7\n"
     ]
    }
   ],
   "source": [
    "# Check if a number is a multiple of both 3 and 7\n",
    "\n",
    "Number = int(input(\"Enter the input: \"))\n",
    "if Number % 3 == 0 and Number % 7 == 0:\n",
    "    print(\"Number divisible by both 3 and 7\")\n",
    "elif Number % 3 == 0:\n",
    "    print(\"Number is divisible only by 3\")\n",
    "elif Number % 7 == 0:\n",
    "    print(\"Number is divisible only by 7\")\n",
    "else:\n",
    "    print(\"Will not be divided by both numbers\")"
   ]
  },
  {
   "cell_type": "code",
   "execution_count": 32,
   "id": "440846b4-9daf-42e1-9b23-434185113236",
   "metadata": {},
   "outputs": [
    {
     "name": "stdin",
     "output_type": "stream",
     "text": [
      "Enter the Num1:  55\n",
      "Enter the Num2:  15\n"
     ]
    },
    {
     "name": "stdout",
     "output_type": "stream",
     "text": [
      "Number one is greater\n"
     ]
    }
   ],
   "source": [
    "# Find the largest of two numbers.\n",
    "\n",
    "Number1 = int(input(\"Enter the Num1: \"))\n",
    "Number2 = int(input(\"Enter the Num2: \"))\n",
    "if Number1 > Number2:\n",
    "    print(\"Number one is greater\")\n",
    "else:\n",
    "    print(\"Number two is greater\")"
   ]
  },
  {
   "cell_type": "code",
   "execution_count": 37,
   "id": "005250c4-9bdb-4840-9812-895dd0bd6aab",
   "metadata": {},
   "outputs": [
    {
     "name": "stdin",
     "output_type": "stream",
     "text": [
      "Enter the Num1:  15\n",
      "Enter the Num2:  55\n",
      "Enter the Num3:  5\n"
     ]
    },
    {
     "name": "stdout",
     "output_type": "stream",
     "text": [
      "Second number is greater\n"
     ]
    }
   ],
   "source": [
    "# Find the largest of three numbers.\n",
    "Number1 = int(input(\"Enter the Num1: \"))\n",
    "Number2 = int(input(\"Enter the Num2: \"))\n",
    "Number3 = int(input(\"Enter the Num3: \"))\n",
    "if Number1 > Number2 and Number3:\n",
    "    print(\"First number is greater\")\n",
    "elif Number2 > Number3 and Number1:\n",
    "    print(\"Second number is greater\")\n",
    "elif Number3 > Number1 and Number2:\n",
    "    print(\"Third number is greater\")"
   ]
  },
  {
   "cell_type": "code",
   "execution_count": null,
   "id": "05bba3f1-aa81-4f03-b9d9-d3700ff5356b",
   "metadata": {},
   "outputs": [],
   "source": []
  },
  {
   "cell_type": "code",
   "execution_count": null,
   "id": "757cfff4-b80e-444d-b496-f0c0bb650f15",
   "metadata": {},
   "outputs": [],
   "source": []
  }
 ],
 "metadata": {
  "kernelspec": {
   "display_name": "Python 3 (ipykernel)",
   "language": "python",
   "name": "python3"
  },
  "language_info": {
   "codemirror_mode": {
    "name": "ipython",
    "version": 3
   },
   "file_extension": ".py",
   "mimetype": "text/x-python",
   "name": "python",
   "nbconvert_exporter": "python",
   "pygments_lexer": "ipython3",
   "version": "3.13.5"
  }
 },
 "nbformat": 4,
 "nbformat_minor": 5
}
