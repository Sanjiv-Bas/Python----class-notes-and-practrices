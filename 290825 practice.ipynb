{
 "cells": [
  {
   "cell_type": "markdown",
   "id": "a7b36a45-a9f5-4161-9443-ea8a04e029b5",
   "metadata": {},
   "source": [
    "# Practices"
   ]
  },
  {
   "cell_type": "markdown",
   "id": "75576f9d-a43f-4822-98d9-3e0284ebbc40",
   "metadata": {},
   "source": [
    "# Simple If questions"
   ]
  },
  {
   "cell_type": "code",
   "execution_count": 1,
   "id": "8b0b8585-f4c7-4e0a-9371-dc9175f2e5f1",
   "metadata": {},
   "outputs": [
    {
     "name": "stdin",
     "output_type": "stream",
     "text": [
      "enter the mark :  49\n"
     ]
    },
    {
     "name": "stdout",
     "output_type": "stream",
     "text": [
      "Pass\n"
     ]
    }
   ],
   "source": [
    "#### Check if a student passed\n",
    "\n",
    "Mark = int(input(\"enter the mark : \"))\n",
    "if Mark >=40:\n",
    "    print(\"Pass\")\n",
    "else:\n",
    "    print(\"Fail\")"
   ]
  },
  {
   "cell_type": "markdown",
   "id": "d93ed75a-2596-43c7-9fc3-e8a330a85222",
   "metadata": {},
   "source": [
    "#  Check if two numbers are equal"
   ]
  },
  {
   "cell_type": "code",
   "execution_count": 2,
   "id": "0669370e-8740-4952-a1b2-abda9ec483e1",
   "metadata": {},
   "outputs": [
    {
     "name": "stdin",
     "output_type": "stream",
     "text": [
      "Enter one number : 5\n",
      "Enter one number : 7\n"
     ]
    },
    {
     "name": "stdout",
     "output_type": "stream",
     "text": [
      "Both are not same\n"
     ]
    }
   ],
   "source": [
    " Num1 = int(input(\"Enter one number :\"))\n",
    " Num2 = int(input(\"Enter one number :\"))\n",
    "if Num1 == Num2:\n",
    "    print(\"Both number are equal\")\n",
    "else:\n",
    "    print(\"Both are not same\")        "
   ]
  },
  {
   "cell_type": "markdown",
   "id": "104d5e7c-5990-46d1-b48c-52da32f6a0c1",
   "metadata": {},
   "source": [
    "# Check if a person is a teenager"
   ]
  },
  {
   "cell_type": "code",
   "execution_count": 9,
   "id": "d32bfed8-a4e0-493f-9a35-313260f6dc1d",
   "metadata": {},
   "outputs": [
    {
     "name": "stdin",
     "output_type": "stream",
     "text": [
      "Enter the Age :  18\n"
     ]
    },
    {
     "name": "stdout",
     "output_type": "stream",
     "text": [
      "Teenager\n"
     ]
    }
   ],
   "source": [
    "Age = int(input(\"Enter the Age : \"))\n",
    "if Age >=13 and Age <=19:\n",
    "    print(\"Teenager\")\n",
    "elif Age <=13:\n",
    "    print(\" person is a kid\")\n",
    "elif Age > 19:\n",
    "    print(\"Person is a Man/Woman\")"
   ]
  },
  {
   "cell_type": "markdown",
   "id": "28a7ee2d-6079-40fb-8071-e989dce431bc",
   "metadata": {},
   "source": [
    "# Check if a number is positive or negative"
   ]
  },
  {
   "cell_type": "code",
   "execution_count": 17,
   "id": "3e1bc2e0-142b-4790-9dbf-b823181ec9fa",
   "metadata": {},
   "outputs": [
    {
     "name": "stdin",
     "output_type": "stream",
     "text": [
      "Enter the number:  -29\n"
     ]
    },
    {
     "name": "stdout",
     "output_type": "stream",
     "text": [
      "Given number is negative\n"
     ]
    }
   ],
   "source": [
    "Number = int(input(\"Enter the number: \"))\n",
    "if Number > 0:\n",
    "    print(\" Given number is positive\")\n",
    "elif Number < 0:\n",
    "    print(\"Given number is negative\")\n",
    "elif Number == 0:   \n",
    "    print(\"Given number is Zero\")\n"
   ]
  },
  {
   "cell_type": "markdown",
   "id": "263fc38e-68f1-4eda-999b-b34359db35e1",
   "metadata": {},
   "source": [
    "# Check if a number is even or odd"
   ]
  },
  {
   "cell_type": "code",
   "execution_count": 30,
   "id": "25aa0f4a-589f-45b4-84a5-9c08ef39abff",
   "metadata": {},
   "outputs": [
    {
     "name": "stdin",
     "output_type": "stream",
     "text": [
      "Enter the number :  25\n"
     ]
    },
    {
     "name": "stdout",
     "output_type": "stream",
     "text": [
      "Entered number is odd\n"
     ]
    }
   ],
   "source": [
    "\n",
    "Number = int(input(\"Enter the number : \"))\n",
    "if Number % 2 == 0:\n",
    "    print(\"Entered number is even\")\n",
    "elif Number !=0:\n",
    "    print(\"Entered number is odd\")\n",
    "\n",
    "    \n"
   ]
  },
  {
   "cell_type": "markdown",
   "id": "1f45c9af-e8e3-42b0-833d-fd90ef5de32b",
   "metadata": {},
   "source": [
    "# Check if a number is greater than 10"
   ]
  },
  {
   "cell_type": "code",
   "execution_count": 33,
   "id": "d8c440b3-723a-49b9-8e41-ab7001c07cd4",
   "metadata": {},
   "outputs": [
    {
     "name": "stdin",
     "output_type": "stream",
     "text": [
      "Enter the number:  3\n"
     ]
    },
    {
     "name": "stdout",
     "output_type": "stream",
     "text": [
      "Given number is less than 10\n"
     ]
    }
   ],
   "source": [
    "Number = int(input(\"Enter the number: \"))\n",
    "if Number>10:\n",
    "    print(\"Given number is greater than 10\")\n",
    "else:\n",
    "    print(\"Given number is less than 10\")"
   ]
  },
  {
   "cell_type": "markdown",
   "id": "f9374d8a-3263-4038-b667-c681068a09e8",
   "metadata": {},
   "source": [
    "# Check if a number is less than 100"
   ]
  },
  {
   "cell_type": "code",
   "execution_count": 35,
   "id": "3f61afc3-4511-47fd-bdbf-5a1974f99103",
   "metadata": {},
   "outputs": [
    {
     "name": "stdin",
     "output_type": "stream",
     "text": [
      "Enter the number:  103\n"
     ]
    },
    {
     "name": "stdout",
     "output_type": "stream",
     "text": [
      "Given number is greater than 100\n"
     ]
    }
   ],
   "source": [
    "Number = int(input(\"Enter the number: \"))\n",
    "if Number>100:\n",
    "    print(\"Given number is greater than 100\")\n",
    "else:\n",
    "    print(\"Given number is lesser than 100\")"
   ]
  },
  {
   "cell_type": "markdown",
   "id": "cb471dc9-8d88-4b8b-8ec8-2c72853ab987",
   "metadata": {},
   "source": [
    "# Check if a number is lesser than or greater than 50."
   ]
  },
  {
   "cell_type": "code",
   "execution_count": 37,
   "id": "f92ae9dd-52f7-4bd3-9ec5-b6e787c3f197",
   "metadata": {},
   "outputs": [
    {
     "name": "stdin",
     "output_type": "stream",
     "text": [
      "Enter the number:  55\n"
     ]
    },
    {
     "name": "stdout",
     "output_type": "stream",
     "text": [
      "Given number is Greater than 50\n"
     ]
    }
   ],
   "source": [
    "Number = int(input(\"Enter the number: \"))\n",
    "if Number <50:\n",
    "    print(\"Given number is lesser than 50\")\n",
    "else:\n",
    "    print(\"Given number is Greater than 50\")                   "
   ]
  },
  {
   "cell_type": "markdown",
   "id": "2bd4aa29-dcf8-4d9f-9437-344bfa5e9e65",
   "metadata": {},
   "source": [
    "# Check if a number is divisible by 5."
   ]
  },
  {
   "cell_type": "code",
   "execution_count": 41,
   "id": "225d45fd-881c-4875-859a-060befe7a303",
   "metadata": {},
   "outputs": [
    {
     "name": "stdin",
     "output_type": "stream",
     "text": [
      "Enter the number:  75\n"
     ]
    },
    {
     "name": "stdout",
     "output_type": "stream",
     "text": [
      "Divisible by 5\n"
     ]
    }
   ],
   "source": [
    "Number = int(input(\"Enter the number: \"))\n",
    "if Number % 5 == 0:\n",
    "    print(\"Divisible by 5\")\n",
    "else:\n",
    "    print(\"Not divisible by 5\")           "
   ]
  },
  {
   "cell_type": "markdown",
   "id": "7e2c208c-69b9-4019-9419-80c221ff793b",
   "metadata": {},
   "source": [
    "# Check if a number is divisible by 3 and 7\n"
   ]
  },
  {
   "cell_type": "code",
   "execution_count": 47,
   "id": "b5dff2f0-5e5c-4453-a379-433573793ce3",
   "metadata": {},
   "outputs": [
    {
     "name": "stdin",
     "output_type": "stream",
     "text": [
      "Enter the number:  21\n"
     ]
    },
    {
     "name": "stdout",
     "output_type": "stream",
     "text": [
      "Divisible by both 3 and 7\n"
     ]
    }
   ],
   "source": [
    "Number = int(input(\"Enter the number: \"))\n",
    "if Number % 3 == 0 and Number % 7 ==0:\n",
    "    print(\"Divisible by both 3 and 7\")\n",
    "elif Number %3 == 0:\n",
    "    print(\"Divisible by 3 only\")\n",
    "elif Number %7 ==0:\n",
    "    print(\"Divisible by 7 only\")\n"
   ]
  },
  {
   "cell_type": "markdown",
   "id": "fa9e0a65-69c4-42d2-a078-b3fd74233638",
   "metadata": {},
   "source": [
    " # Check if a number is between 1 and 10."
   ]
  },
  {
   "cell_type": "code",
   "execution_count": 51,
   "id": "482d2f29-118d-41ef-8564-c3c643f4f65b",
   "metadata": {},
   "outputs": [
    {
     "name": "stdin",
     "output_type": "stream",
     "text": [
      "Enter the number:  11\n"
     ]
    },
    {
     "name": "stdout",
     "output_type": "stream",
     "text": [
      "Number is not mentioned between one and ten\n"
     ]
    }
   ],
   "source": [
    "Number = int(input(\"Enter the number: \"))\n",
    "if Number >=1 and Number  <=10:\n",
    "    print(\"Given number is between one and ten\")\n",
    "else:\n",
    "    print(\"Number is not mentioned between one and ten\")"
   ]
  },
  {
   "cell_type": "markdown",
   "id": "a7f94367-242b-4c6e-91c9-f5213f9ac277",
   "metadata": {},
   "source": [
    "# Check if a person’s age is eligible to vote (>=18)"
   ]
  },
  {
   "cell_type": "code",
   "execution_count": 60,
   "id": "6bbabb95-be91-454c-bc30-a66478cfba11",
   "metadata": {},
   "outputs": [
    {
     "name": "stdin",
     "output_type": "stream",
     "text": [
      "Enter the Age:  17\n"
     ]
    },
    {
     "name": "stdout",
     "output_type": "stream",
     "text": [
      " Ineligible to vote \n"
     ]
    }
   ],
   "source": [
    "Age = int(input(\"Enter the Age: \"))\n",
    "if Age<18:\n",
    "    print(\" Ineligible to vote \")\n",
    "elif Age >= 18:\n",
    "    print(\"eligible to vote\")"
   ]
  },
  {
   "cell_type": "markdown",
   "id": "b8934a89-8ef4-4d8c-a22c-28691cfc687e",
   "metadata": {},
   "source": [
    "# Check if a given character is a vowel."
   ]
  },
  {
   "cell_type": "code",
   "execution_count": 79,
   "id": "c70d9c5c-8903-4450-9730-d1c37179d4f9",
   "metadata": {},
   "outputs": [
    {
     "name": "stdin",
     "output_type": "stream",
     "text": [
      "Enter the character z\n"
     ]
    },
    {
     "name": "stdout",
     "output_type": "stream",
     "text": [
      "Given character is consonant\n"
     ]
    }
   ],
   "source": [
    "Character = str(input(\"Enter the character\"))\n",
    "if Character in  \"aeiouAEIOU\":\n",
    "    print(\"Given character is vowel\")\n",
    "else:\n",
    "    print(\"Given character is consonant\")\n"
   ]
  },
  {
   "cell_type": "markdown",
   "id": "bfdcfc47-dab8-4a5b-8d98-106df70f2ebe",
   "metadata": {},
   "source": [
    "# Check if a given character is uppercase"
   ]
  },
  {
   "cell_type": "code",
   "execution_count": 80,
   "id": "8cf1ff64-20ac-4136-b852-36576ca1e97f",
   "metadata": {},
   "outputs": [
    {
     "name": "stdin",
     "output_type": "stream",
     "text": [
      "Enter the character z\n"
     ]
    },
    {
     "name": "stdout",
     "output_type": "stream",
     "text": [
      "Given character is lower\n"
     ]
    }
   ],
   "source": [
    "Character = str(input(\"Enter the character\"))\n",
    "if Character in \"ABCDEFGHIJKLMNOPQRSTUVWSYZ\":\n",
    "    print(\"Given character is Upper\")\n",
    "else:\n",
    "    print(\"Given character is lower\")\n"
   ]
  },
  {
   "cell_type": "markdown",
   "id": "43e35bcd-0881-4a2a-8e54-aa605d82a333",
   "metadata": {},
   "source": [
    "# another method"
   ]
  },
  {
   "cell_type": "code",
   "execution_count": 75,
   "id": "2acf5e1b-7dba-4daf-9447-6696e98d98da",
   "metadata": {},
   "outputs": [
    {
     "name": "stdin",
     "output_type": "stream",
     "text": [
      "Enter the character A\n"
     ]
    },
    {
     "name": "stdout",
     "output_type": "stream",
     "text": [
      "A is an uppercase letter\n"
     ]
    }
   ],
   "source": [
    "Character = str(input(\"Enter the character\"))\n",
    "\n",
    "if Character.isupper():\n",
    "    print(Character, \"is an uppercase letter\")\n",
    "else:\n",
    "    print(Character, \"is not an uppercase letter\")"
   ]
  },
  {
   "cell_type": "markdown",
   "id": "57d79f0f-5b11-4a9f-bfb4-cbaf93c43223",
   "metadata": {},
   "source": [
    "# Check if a given string is empty."
   ]
  },
  {
   "cell_type": "code",
   "execution_count": 84,
   "id": "7e0e11df-08b7-463a-ab3f-1d7176e2d1be",
   "metadata": {},
   "outputs": [
    {
     "name": "stdin",
     "output_type": "stream",
     "text": [
      "Enter a string:  Sanjiv\n"
     ]
    },
    {
     "name": "stdout",
     "output_type": "stream",
     "text": [
      "The string is not empty\n"
     ]
    }
   ],
   "source": [
    "text = input(\"Enter a string: \")\n",
    "\n",
    "if text == \"\":\n",
    "    print(\"The string is empty\")\n",
    "else:\n",
    "    print(\"The string is not empty\")\n",
    "    \n",
    "    "
   ]
  },
  {
   "cell_type": "code",
   "execution_count": null,
   "id": "32c318af-f601-4db0-8f11-d26006e4228a",
   "metadata": {},
   "outputs": [],
   "source": []
  },
  {
   "cell_type": "code",
   "execution_count": null,
   "id": "03f05180-3c9a-440e-a867-6ed50941f297",
   "metadata": {},
   "outputs": [],
   "source": []
  },
  {
   "cell_type": "code",
   "execution_count": null,
   "id": "2a368171-220c-4a40-9219-f0076f2513f7",
   "metadata": {},
   "outputs": [],
   "source": []
  }
 ],
 "metadata": {
  "kernelspec": {
   "display_name": "Python 3 (ipykernel)",
   "language": "python",
   "name": "python3"
  },
  "language_info": {
   "codemirror_mode": {
    "name": "ipython",
    "version": 3
   },
   "file_extension": ".py",
   "mimetype": "text/x-python",
   "name": "python",
   "nbconvert_exporter": "python",
   "pygments_lexer": "ipython3",
   "version": "3.13.5"
  }
 },
 "nbformat": 4,
 "nbformat_minor": 5
}
