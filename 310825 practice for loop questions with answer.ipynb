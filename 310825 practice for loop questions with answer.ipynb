{
 "cells": [
  {
   "cell_type": "markdown",
   "id": "fe85b964-37a3-492e-90ca-2aeb8a2ca77b",
   "metadata": {},
   "source": [
    "# For loop Samples"
   ]
  },
  {
   "cell_type": "code",
   "execution_count": 1,
   "id": "1b555bed-4ca7-40c0-942a-24cebe2247c6",
   "metadata": {},
   "outputs": [
    {
     "name": "stdout",
     "output_type": "stream",
     "text": [
      "[1, 3, 5, 7, 9]\n",
      "[1, 3, 5, 7, 9]\n",
      "[1, 3, 5, 7, 9]\n",
      "[1, 3, 5, 7, 9]\n",
      "[1, 3, 5, 7, 9]\n"
     ]
    }
   ],
   "source": [
    "D = [1,3,5,7,9]\n",
    "for i in D:\n",
    "    print(D)"
   ]
  },
  {
   "cell_type": "code",
   "execution_count": 2,
   "id": "503bc475-aa3c-47d3-bac0-be15327e0556",
   "metadata": {},
   "outputs": [
    {
     "name": "stdout",
     "output_type": "stream",
     "text": [
      "1\n",
      "3\n",
      "5\n",
      "7\n",
      "9\n"
     ]
    }
   ],
   "source": [
    "D = [1,3,5,7,9]\n",
    "for i in D:\n",
    "    print(i)"
   ]
  },
  {
   "cell_type": "code",
   "execution_count": 3,
   "id": "be68299c-0bac-4b19-9388-f1e3c013171f",
   "metadata": {},
   "outputs": [
    {
     "name": "stdout",
     "output_type": "stream",
     "text": [
      "2\n",
      "3\n",
      "4\n",
      "5\n",
      "6\n",
      "7\n",
      "8\n",
      "9\n"
     ]
    }
   ],
   "source": [
    "for i in range(2,10):\n",
    "    print(i)"
   ]
  },
  {
   "cell_type": "code",
   "execution_count": 4,
   "id": "3d736244-7068-432d-830d-16215c67307c",
   "metadata": {},
   "outputs": [
    {
     "name": "stdout",
     "output_type": "stream",
     "text": [
      "2\n",
      "4\n",
      "6\n",
      "8\n"
     ]
    }
   ],
   "source": [
    "for i in range(2,10,2):\n",
    "    print(i)\n",
    "#  First number ==> start\n",
    "#  second number ==> stop\n",
    "# third number ==> step ( this means the printed value will be increment by 2 example is shown below )"
   ]
  },
  {
   "cell_type": "code",
   "execution_count": 1,
   "id": "eb1a95e0-b397-421e-9e30-b614e16ecd64",
   "metadata": {},
   "outputs": [
    {
     "name": "stdout",
     "output_type": "stream",
     "text": [
      "D\n",
      "i\n",
      "v\n",
      "y\n",
      "a\n"
     ]
    }
   ],
   "source": [
    "Sanjiv = \"Divya\"\n",
    "for i in Sanjiv:\n",
    "    print(i)\n",
    "    "
   ]
  },
  {
   "cell_type": "code",
   "execution_count": 2,
   "id": "e8f9286c-9cdb-49ff-bfe4-d1903964af76",
   "metadata": {},
   "outputs": [
    {
     "name": "stdout",
     "output_type": "stream",
     "text": [
      "Divya\n",
      "Divya\n",
      "Divya\n",
      "Divya\n",
      "Divya\n"
     ]
    }
   ],
   "source": [
    "Sanjiv = \"Divya\"\n",
    "for i in Sanjiv:\n",
    "    print(Sanjiv)"
   ]
  },
  {
   "cell_type": "markdown",
   "id": "d4384f06-5a39-4dd9-ac79-1edc28c30fe8",
   "metadata": {},
   "source": [
    "# Display or analyzing transaction amount \n",
    "Sales = [1500,2500,3000,3500,4000]\n",
    "for i in Sales:\n",
    "    print(i)"
   ]
  },
  {
   "cell_type": "raw",
   "id": "4389578a-b065-4421-9a79-ea4c9568492d",
   "metadata": {},
   "source": []
  },
  {
   "cell_type": "code",
   "execution_count": 41,
   "id": "c52d44f6-6001-4778-90a0-97dea26bc8f3",
   "metadata": {},
   "outputs": [
    {
     "name": "stdin",
     "output_type": "stream",
     "text": [
      "Enter the number ==>  10\n"
     ]
    },
    {
     "name": "stdout",
     "output_type": "stream",
     "text": [
      "17\n",
      "24\n",
      "31\n",
      "38\n",
      "45\n"
     ]
    }
   ],
   "source": [
    "number = int(input(\"Enter the number ==> \"))\n",
    "for i in range(5):\n",
    "    number += 7\n",
    "    print(number)"
   ]
  },
  {
   "cell_type": "code",
   "execution_count": 45,
   "id": "cea71d55-7e7d-4db2-9831-060fc022cfbf",
   "metadata": {},
   "outputs": [
    {
     "name": "stdin",
     "output_type": "stream",
     "text": [
      "Enter the number ==>  100000\n"
     ]
    },
    {
     "name": "stdout",
     "output_type": "stream",
     "text": [
      "100000\n",
      "200000\n",
      "300000\n",
      "400000\n",
      "500000\n"
     ]
    }
   ],
   "source": [
    "# To calculate the nunning total\n",
    "\n",
    "Salary = int(input(\"Enter the number ==> \"))\n",
    "Total = 0\n",
    "for i in range(5):\n",
    "    Total += Salary\n",
    "    print(Total) \n"
   ]
  },
  {
   "cell_type": "code",
   "execution_count": 51,
   "id": "84293a6f-65c4-4a9e-92cd-0b1f4db060c9",
   "metadata": {},
   "outputs": [
    {
     "name": "stdin",
     "output_type": "stream",
     "text": [
      "Enter the value :  250000\n"
     ]
    },
    {
     "name": "stdout",
     "output_type": "stream",
     "text": [
      "200000\n",
      "150000\n",
      "100000\n",
      "50000\n",
      "0\n"
     ]
    }
   ],
   "source": [
    "# Paying and settling the loan\n",
    "\n",
    "loan = int(input(\"Enter the value : \"))\n",
    "installment = 50000\n",
    "\n",
    "for i in range(5):\n",
    "    loan -= installment\n",
    "    print(loan)\n"
   ]
  },
  {
   "cell_type": "markdown",
   "id": "d7a6ad03-04e8-40c7-8297-0dcc1905c20d",
   "metadata": {},
   "source": [
    "# Print numbers from 1 to 10."
   ]
  },
  {
   "cell_type": "code",
   "execution_count": 57,
   "id": "a821adc8-020c-4f99-b73f-bdcca5dbd016",
   "metadata": {},
   "outputs": [
    {
     "name": "stdout",
     "output_type": "stream",
     "text": [
      "1\n",
      "2\n",
      "3\n",
      "4\n",
      "5\n",
      "6\n",
      "7\n",
      "8\n",
      "9\n",
      "10\n"
     ]
    }
   ],
   "source": [
    "for i in range(1,11):\n",
    "    print(i)"
   ]
  },
  {
   "cell_type": "markdown",
   "id": "a6630228-8a7c-4b64-bf8e-562a52f34cab",
   "metadata": {},
   "source": [
    "# Print even numbers from 1 to 20."
   ]
  },
  {
   "cell_type": "code",
   "execution_count": 68,
   "id": "f98eb46f-ac6b-49b0-a5c2-88709d1889fc",
   "metadata": {},
   "outputs": [
    {
     "name": "stdout",
     "output_type": "stream",
     "text": [
      "2\n",
      "4\n",
      "6\n",
      "8\n",
      "10\n",
      "12\n",
      "14\n",
      "16\n",
      "18\n",
      "20\n"
     ]
    }
   ],
   "source": [
    "for i in range(1,21):\n",
    "    if i % 2 == 0 :\n",
    "        print(i)\n",
    "        i+=1\n",
    "    # else:\n",
    "        # print(i,end = \" is odd \\n\")\n",
    "        # Here else not required so kept in command"
   ]
  },
  {
   "cell_type": "markdown",
   "id": "772f7d87-3ca5-4373-a16f-82fc3d2acb4e",
   "metadata": {},
   "source": [
    "# Print odd numbers from 1 to 20."
   ]
  },
  {
   "cell_type": "code",
   "execution_count": 3,
   "id": "4deaf7dd-60ce-4a2b-8cb0-c5353314071e",
   "metadata": {},
   "outputs": [
    {
     "name": "stdout",
     "output_type": "stream",
     "text": [
      "1\n",
      "3\n",
      "5\n",
      "7\n",
      "9\n",
      "11\n",
      "13\n",
      "15\n",
      "17\n",
      "19\n"
     ]
    }
   ],
   "source": [
    "for i in range(1,21):\n",
    "    if i % 2 != 0:\n",
    "        print(i)\n",
    "        i+=1\n"
   ]
  },
  {
   "cell_type": "markdown",
   "id": "f7221e27-193d-4c8b-90e1-adeb6ed779a6",
   "metadata": {},
   "source": [
    "# Print the 5 counts of 5 multiples"
   ]
  },
  {
   "cell_type": "code",
   "execution_count": 11,
   "id": "cc6ae6bc-0029-4602-8df0-70baed56098a",
   "metadata": {},
   "outputs": [
    {
     "name": "stdout",
     "output_type": "stream",
     "text": [
      "5\n",
      "10\n",
      "15\n",
      "20\n",
      "25\n"
     ]
    }
   ],
   "source": [
    "d = 0\n",
    "for i in range(5):\n",
    "    d+=5\n",
    "    print(i)"
   ]
  },
  {
   "cell_type": "markdown",
   "id": "772c9954-8a86-4ac3-971d-af0fec47346b",
   "metadata": {},
   "source": [
    "# Find the sum of numbers from 1 to 50."
   ]
  },
  {
   "cell_type": "code",
   "execution_count": 24,
   "id": "9c570093-2e0c-42b0-8994-af5fd79da72f",
   "metadata": {},
   "outputs": [
    {
     "name": "stdout",
     "output_type": "stream",
     "text": [
      "1275\n"
     ]
    }
   ],
   "source": [
    "sum = 0\n",
    "for i in range(51):\n",
    "    sum = sum+i\n",
    "print(sum)\n",
    "# ******************#\n",
    "# sum = 0\n",
    "# for i in range(51):\n",
    "#     sum = sum+i\n",
    "#     print(sum)\n",
    "# if we give the print inside the result will come in many lines. The above program will give the answer in the single line"
   ]
  },
  {
   "cell_type": "markdown",
   "id": "14fd03fd-09c1-41ca-a022-226cad784428",
   "metadata": {},
   "source": [
    "# Find the factorial of a given number."
   ]
  },
  {
   "cell_type": "code",
   "execution_count": 47,
   "id": "c16ae60d-9dfe-4a93-81fa-2bd5e6f8dd03",
   "metadata": {},
   "outputs": [
    {
     "name": "stdin",
     "output_type": "stream",
     "text": [
      "enter the number :  5\n"
     ]
    },
    {
     "name": "stdout",
     "output_type": "stream",
     "text": [
      "120\n"
     ]
    }
   ],
   "source": [
    "number = int(input(\"enter the number : \"))\n",
    "factorial = 1\n",
    "for i in range(1,number+1):\n",
    "    factorial*=i    \n",
    "print(factorial)\n",
    "    "
   ]
  },
  {
   "cell_type": "markdown",
   "id": "d1706491-fd17-4d3c-a657-3b8d8a96fa3c",
   "metadata": {},
   "source": [
    "# Print each character in a string"
   ]
  },
  {
   "cell_type": "code",
   "execution_count": 51,
   "id": "d21bbe46-f5e6-40b5-a55d-7c32d44d03cc",
   "metadata": {},
   "outputs": [
    {
     "name": "stdout",
     "output_type": "stream",
     "text": [
      "d\n",
      "i\n",
      "v\n",
      "y\n",
      "a\n"
     ]
    }
   ],
   "source": [
    "a = \"divya\"\n",
    "for i in a:\n",
    "    print(i)"
   ]
  },
  {
   "cell_type": "markdown",
   "id": "1e36cbc2-b314-4dc8-829c-8799f0868b1b",
   "metadata": {},
   "source": [
    "# Print the multiplication table for multiplication table of 2 to 12"
   ]
  },
  {
   "cell_type": "code",
   "execution_count": 65,
   "id": "28a88db9-a7ea-4f2c-9f20-a5297656af47",
   "metadata": {},
   "outputs": [
    {
     "name": "stdout",
     "output_type": "stream",
     "text": [
      "2 * 1 = 2\n",
      "2 * 2 = 4\n",
      "2 * 3 = 6\n",
      "2 * 4 = 8\n",
      "2 * 5 = 10\n",
      "2 * 6 = 12\n",
      "2 * 7 = 14\n",
      "2 * 8 = 16\n",
      "2 * 9 = 18\n",
      "2 * 10 = 20\n",
      "2 * 11 = 22\n",
      "2 * 12 = 24\n",
      "3 * 1 = 3\n",
      "3 * 2 = 6\n",
      "3 * 3 = 9\n",
      "3 * 4 = 12\n",
      "3 * 5 = 15\n",
      "3 * 6 = 18\n",
      "3 * 7 = 21\n",
      "3 * 8 = 24\n",
      "3 * 9 = 27\n",
      "3 * 10 = 30\n",
      "3 * 11 = 33\n",
      "3 * 12 = 36\n",
      "4 * 1 = 4\n",
      "4 * 2 = 8\n",
      "4 * 3 = 12\n",
      "4 * 4 = 16\n",
      "4 * 5 = 20\n",
      "4 * 6 = 24\n",
      "4 * 7 = 28\n",
      "4 * 8 = 32\n",
      "4 * 9 = 36\n",
      "4 * 10 = 40\n",
      "4 * 11 = 44\n",
      "4 * 12 = 48\n",
      "5 * 1 = 5\n",
      "5 * 2 = 10\n",
      "5 * 3 = 15\n",
      "5 * 4 = 20\n",
      "5 * 5 = 25\n",
      "5 * 6 = 30\n",
      "5 * 7 = 35\n",
      "5 * 8 = 40\n",
      "5 * 9 = 45\n",
      "5 * 10 = 50\n",
      "5 * 11 = 55\n",
      "5 * 12 = 60\n",
      "6 * 1 = 6\n",
      "6 * 2 = 12\n",
      "6 * 3 = 18\n",
      "6 * 4 = 24\n",
      "6 * 5 = 30\n",
      "6 * 6 = 36\n",
      "6 * 7 = 42\n",
      "6 * 8 = 48\n",
      "6 * 9 = 54\n",
      "6 * 10 = 60\n",
      "6 * 11 = 66\n",
      "6 * 12 = 72\n",
      "7 * 1 = 7\n",
      "7 * 2 = 14\n",
      "7 * 3 = 21\n",
      "7 * 4 = 28\n",
      "7 * 5 = 35\n",
      "7 * 6 = 42\n",
      "7 * 7 = 49\n",
      "7 * 8 = 56\n",
      "7 * 9 = 63\n",
      "7 * 10 = 70\n",
      "7 * 11 = 77\n",
      "7 * 12 = 84\n",
      "8 * 1 = 8\n",
      "8 * 2 = 16\n",
      "8 * 3 = 24\n",
      "8 * 4 = 32\n",
      "8 * 5 = 40\n",
      "8 * 6 = 48\n",
      "8 * 7 = 56\n",
      "8 * 8 = 64\n",
      "8 * 9 = 72\n",
      "8 * 10 = 80\n",
      "8 * 11 = 88\n",
      "8 * 12 = 96\n",
      "9 * 1 = 9\n",
      "9 * 2 = 18\n",
      "9 * 3 = 27\n",
      "9 * 4 = 36\n",
      "9 * 5 = 45\n",
      "9 * 6 = 54\n",
      "9 * 7 = 63\n",
      "9 * 8 = 72\n",
      "9 * 9 = 81\n",
      "9 * 10 = 90\n",
      "9 * 11 = 99\n",
      "9 * 12 = 108\n",
      "10 * 1 = 10\n",
      "10 * 2 = 20\n",
      "10 * 3 = 30\n",
      "10 * 4 = 40\n",
      "10 * 5 = 50\n",
      "10 * 6 = 60\n",
      "10 * 7 = 70\n",
      "10 * 8 = 80\n",
      "10 * 9 = 90\n",
      "10 * 10 = 100\n",
      "10 * 11 = 110\n",
      "10 * 12 = 120\n",
      "11 * 1 = 11\n",
      "11 * 2 = 22\n",
      "11 * 3 = 33\n",
      "11 * 4 = 44\n",
      "11 * 5 = 55\n",
      "11 * 6 = 66\n",
      "11 * 7 = 77\n",
      "11 * 8 = 88\n",
      "11 * 9 = 99\n",
      "11 * 10 = 110\n",
      "11 * 11 = 121\n",
      "11 * 12 = 132\n",
      "12 * 1 = 12\n",
      "12 * 2 = 24\n",
      "12 * 3 = 36\n",
      "12 * 4 = 48\n",
      "12 * 5 = 60\n",
      "12 * 6 = 72\n",
      "12 * 7 = 84\n",
      "12 * 8 = 96\n",
      "12 * 9 = 108\n",
      "12 * 10 = 120\n",
      "12 * 11 = 132\n",
      "12 * 12 = 144\n"
     ]
    }
   ],
   "source": [
    "j=[1,2,3,4,5,6,7,8,9,10,11,12]\n",
    "for i in range(2,13):\n",
    "    for a in j:\n",
    "        print( i,\"*\",a,\"=\",i*a)"
   ]
  },
  {
   "cell_type": "code",
   "execution_count": null,
   "id": "d0b1f1a2-7ba2-417a-8e7b-653f0bab1f57",
   "metadata": {},
   "outputs": [],
   "source": []
  }
 ],
 "metadata": {
  "kernelspec": {
   "display_name": "Python 3 (ipykernel)",
   "language": "python",
   "name": "python3"
  },
  "language_info": {
   "codemirror_mode": {
    "name": "ipython",
    "version": 3
   },
   "file_extension": ".py",
   "mimetype": "text/x-python",
   "name": "python",
   "nbconvert_exporter": "python",
   "pygments_lexer": "ipython3",
   "version": "3.13.5"
  }
 },
 "nbformat": 4,
 "nbformat_minor": 5
}
