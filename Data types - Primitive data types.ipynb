{
 "cells": [
  {
   "cell_type": "markdown",
   "id": "80ce5acf-0e5b-4728-a1f6-d6b65914865c",
   "metadata": {},
   "source": [
    "# Data types is the classification of data that defines the type of values. it is of two types\n",
    "# they are \n",
    "# Primitive data type and Non-Primitive data type.\n",
    "# Primitive data type is the basic built-in data type that stores a single value like a number/character/True or False\n",
    "\n",
    "\n"
   ]
  },
  {
   "cell_type": "markdown",
   "id": "bf59a546-a3ab-47bb-b7f1-da7af309eab1",
   "metadata": {},
   "source": [
    "# Primitive data types are int, float, string, complex and boolean"
   ]
  },
  {
   "cell_type": "code",
   "execution_count": 20,
   "id": "dcc50260-9f8f-4c2c-b452-04ea21d915b6",
   "metadata": {},
   "outputs": [
    {
     "name": "stdout",
     "output_type": "stream",
     "text": [
      "30\n"
     ]
    }
   ],
   "source": [
    "# int\n",
    "\n",
    "a = 10\n",
    "b = 20\n",
    "c = a+b\n",
    "print(c)"
   ]
  },
  {
   "cell_type": "code",
   "execution_count": 25,
   "id": "2f47257d-23a2-45d4-b903-4b2731ab1c10",
   "metadata": {},
   "outputs": [
    {
     "name": "stdout",
     "output_type": "stream",
     "text": [
      "0\n"
     ]
    }
   ],
   "source": [
    "a = 20\n",
    "b = 20\n",
    "g = a - b\n",
    "print(g)"
   ]
  },
  {
   "cell_type": "code",
   "execution_count": 26,
   "id": "143892d6-2081-4981-922d-0e0247d98f3a",
   "metadata": {},
   "outputs": [
    {
     "name": "stdout",
     "output_type": "stream",
     "text": [
      "400\n"
     ]
    }
   ],
   "source": [
    "a = 20\n",
    "b = 20\n",
    "d = a * b\n",
    "print(d)"
   ]
  },
  {
   "cell_type": "code",
   "execution_count": 27,
   "id": "282f5fc1-1b30-490f-9cc5-01c0076421db",
   "metadata": {},
   "outputs": [
    {
     "name": "stdout",
     "output_type": "stream",
     "text": [
      "2.0\n"
     ]
    }
   ],
   "source": [
    "a = 20\n",
    "b = 10\n",
    "e = a / b\n",
    "print(e)"
   ]
  },
  {
   "cell_type": "code",
   "execution_count": 29,
   "id": "0b63d727-97d7-4ad9-b820-dcd9a9b6abb0",
   "metadata": {},
   "outputs": [
    {
     "name": "stdout",
     "output_type": "stream",
     "text": [
      "2\n"
     ]
    }
   ],
   "source": [
    "a = 20\n",
    "b = 10\n",
    "h = a // b\n",
    "print(h)"
   ]
  },
  {
   "cell_type": "code",
   "execution_count": 30,
   "id": "12f381e3-6d2a-40ce-b69b-5591bb15973f",
   "metadata": {},
   "outputs": [
    {
     "name": "stdout",
     "output_type": "stream",
     "text": [
      "0\n"
     ]
    }
   ],
   "source": [
    "a = 20\n",
    "b = 10\n",
    "i = a % b\n",
    "print(i)\n"
   ]
  }
 ],
 "metadata": {
  "kernelspec": {
   "display_name": "Python 3 (ipykernel)",
   "language": "python",
   "name": "python3"
  },
  "language_info": {
   "codemirror_mode": {
    "name": "ipython",
    "version": 3
   },
   "file_extension": ".py",
   "mimetype": "text/x-python",
   "name": "python",
   "nbconvert_exporter": "python",
   "pygments_lexer": "ipython3",
   "version": "3.13.5"
  }
 },
 "nbformat": 4,
 "nbformat_minor": 5
}
