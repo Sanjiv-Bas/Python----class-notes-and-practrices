{
 "cells": [
  {
   "cell_type": "markdown",
   "id": "11a0c1a3-7e64-4880-b85c-9bb0ffe8fa8c",
   "metadata": {},
   "source": [
    "# Tuple - collection of number/character/string which is immutable.\n",
    "# paranthesis \"()\" will be used for this tuple.\n",
    "# It will support index.\n",
    "# Duplicate values may come.\n",
    "\n",
    "# Tuple has two methods/built in function\n",
    "\n",
    "# count and index. \n",
    "# Examples are shown below."
   ]
  },
  {
   "cell_type": "code",
   "execution_count": 1,
   "id": "fed39de8-04a1-48a5-b0d1-d9dc173ee61f",
   "metadata": {},
   "outputs": [
    {
     "name": "stdout",
     "output_type": "stream",
     "text": [
      "3\n"
     ]
    }
   ],
   "source": [
    "tuple1 = (1,5,3,5,7,5,9)\n",
    "tuple1.count(5)\n",
    "print(tuple1.count(5))"
   ]
  },
  {
   "cell_type": "code",
   "execution_count": 6,
   "id": "c55544bd-259e-42bf-853d-cb970410909e",
   "metadata": {},
   "outputs": [
    {
     "name": "stdout",
     "output_type": "stream",
     "text": [
      "1\n"
     ]
    }
   ],
   "source": [
    "tuple1 = (1,5,3,5,7,5,9)\n",
    "tuple1.count(3)\n",
    "print(tuple1.count(3))"
   ]
  },
  {
   "cell_type": "code",
   "execution_count": null,
   "id": "779c3d13-3ea9-40a5-bd89-43afd47b28f0",
   "metadata": {},
   "outputs": [],
   "source": []
  }
 ],
 "metadata": {
  "kernelspec": {
   "display_name": "Python 3 (ipykernel)",
   "language": "python",
   "name": "python3"
  },
  "language_info": {
   "codemirror_mode": {
    "name": "ipython",
    "version": 3
   },
   "file_extension": ".py",
   "mimetype": "text/x-python",
   "name": "python",
   "nbconvert_exporter": "python",
   "pygments_lexer": "ipython3",
   "version": "3.13.5"
  }
 },
 "nbformat": 4,
 "nbformat_minor": 5
}
